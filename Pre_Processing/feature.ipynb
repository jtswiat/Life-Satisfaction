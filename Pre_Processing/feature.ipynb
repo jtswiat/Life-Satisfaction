{
 "cells": [
  {
   "cell_type": "code",
   "execution_count": 80,
   "metadata": {},
   "outputs": [],
   "source": [
    "import pandas as pd\n",
    "import numpy as np"
   ]
  },
  {
   "cell_type": "markdown",
   "metadata": {},
   "source": [
    "Reading in the training and test data we well as the column name to column label mapping file created in `column_name.ipynb`\n",
    "File `country_continent.csv` is a mapping of 2-letter country code to the continent it is in\n",
    "File `europe_country.csv` is a mapping of 2-letter country codes for European countries (and Israel) to the region of Europe it is in."
   ]
  },
  {
   "cell_type": "code",
   "execution_count": 92,
   "metadata": {
    "scrolled": true
   },
   "outputs": [
    {
     "name": "stderr",
     "output_type": "stream",
     "text": [
      "C:\\Users\\Jack\\Anaconda3\\lib\\site-packages\\IPython\\core\\interactiveshell.py:2785: DtypeWarning: Columns (3,4,6,10,12,18,24,35,56,57,65,85,98,99,100,105,124,125,126,127,128,130,131,132,133,166,171,172,228,229,230,240,256,257,258) have mixed types. Specify dtype option on import or set low_memory=False.\n",
      "  interactivity=interactivity, compiler=compiler, result=result)\n",
      "C:\\Users\\Jack\\Anaconda3\\lib\\site-packages\\IPython\\core\\interactiveshell.py:2785: DtypeWarning: Columns (3,6,10,12,21,24,35,85,100,124,126,127,128,130,131,133,166,172,177,220,222,228,229,230,240,257,258) have mixed types. Specify dtype option on import or set low_memory=False.\n",
      "  interactivity=interactivity, compiler=compiler, result=result)\n"
     ]
    }
   ],
   "source": [
    "codebook=pd.read_csv(r\"C:\\Users\\Jack\\Desktop\\Project441\\column_name_file_clean.csv\")\n",
    "train=pd.read_csv(r\"C:\\Users\\Jack\\Desktop\\Project441\\Data\\train_clean.csv\")\n",
    "train1=pd.read_csv(r\"C:\\Users\\Jack\\Desktop\\Project441\\Data\\train_clean.csv\")\n",
    "test=pd.read_csv(r\"C:\\Users\\Jack\\Desktop\\Project441\\Data\\test_clean.csv\",index_col=False)\n",
    "test1=pd.read_csv(r\"C:\\Users\\Jack\\Desktop\\Project441\\Data\\test_clean.csv\",index_col=False)\n",
    "cc=pd.read_csv(r\"C:\\Users\\Jack\\Desktop\\Project441\\country_continent.csv\",index_col=False)\n",
    "eu=pd.read_csv(r\"C:\\Users\\Jack\\Desktop\\Project441\\Data\\europe_country.csv\",encoding='latin-1')"
   ]
  },
  {
   "cell_type": "markdown",
   "metadata": {},
   "source": [
    "We define a function to merge our continent table to our training/test data on `v17: Country of birth`, this will remove country of birth as a factor and replace it with continent of birth. This function also merges our European region table to our training/test data on `cntry: Country`, this will remove country as a factor and replace it with the region of Europe. We then apply this funciton to out train and test data. "
   ]
  },
  {
   "cell_type": "code",
   "execution_count": 93,
   "metadata": {},
   "outputs": [],
   "source": [
    "def convert_to_regions(df):\n",
    "    df=df.merge(cc,how='left',right_on='iso 3166 country',left_on='v17')\n",
    "    df=df.drop(['iso 3166 country','v20','v154','v155','v25'],axis=1)\n",
    "    df=df.merge(eu,how='left',right_on='cntry',left_on='cntry')\n",
    "    #df=df.drop(['cntry'],axis=1)\n",
    "    return(df)"
   ]
  },
  {
   "cell_type": "code",
   "execution_count": 94,
   "metadata": {},
   "outputs": [],
   "source": [
    "def same_birth_fam(df):\n",
    "    df['mom_dad_same']=1*(df['v161']==df['v78'])\n",
    "    df.loc[df['v161'].isin([str(num) for num in np.arange(0, 100, 1).tolist()]),'mom_dad_same']=np.nan\n",
    "    df.loc[df['v78'].isin([str(num) for num in np.arange(0, 100, 1).tolist()]),'mom_dad_same']=np.nan\n",
    "\n",
    "    df['mom_same']=1*(df['v161']==df['v17'])\n",
    "    df.loc[df['v161'].isin([str(num) for num in np.arange(0, 100, 1).tolist()]),'mom_same']=np.nan\n",
    "    df.loc[df['v17'].isin([str(num) for num in np.arange(0, 100, 1).tolist()]),'mom_same']=np.nan\n",
    "\n",
    "    df['dad_same']=1*(df['v78']==df['v17'])\n",
    "    df.loc[df['v78'].isin([str(num) for num in np.arange(0, 100, 1).tolist()]),'dad_same']=np.nan\n",
    "    df.loc[df['v17'].isin([str(num) for num in np.arange(0, 100, 1).tolist()]),'dad_same']=np.nan\n",
    "\n",
    "\n",
    "    df=df.drop(['v17','v78','v161'],axis=1)\n",
    "    return(df)"
   ]
  },
  {
   "cell_type": "code",
   "execution_count": null,
   "metadata": {},
   "outputs": [],
   "source": []
  },
  {
   "cell_type": "code",
   "execution_count": null,
   "metadata": {},
   "outputs": [],
   "source": []
  },
  {
   "cell_type": "code",
   "execution_count": 95,
   "metadata": {},
   "outputs": [],
   "source": [
    "train=convert_to_regions(train)\n",
    "test=convert_to_regions(test)\n",
    "\n",
    "train=same_birth_fam(train)\n",
    "test=same_birth_fam(test)"
   ]
  },
  {
   "cell_type": "markdown",
   "metadata": {},
   "source": [
    "Month the survey ended (`v128`) is recorded as a numerical variable. It does not make much sense to do this as it is possible that November and December are similar in some respect, but December is equally close to January, but 12 is not as close to 1 as it is to 11. So we recorded this value as a factor level. \n",
    "\n",
    "In a similar way, religion at present (`v190`) and religion in the past (`v191`) are recorded as numerical values, but relgion does not have any inherent ordering so we convert these values to characters, and edit column `v190` to have 'Religion_now1' instead of 1 and `v191` to have 'Religion_past1' instead of 1, where 1 corresponds to Roman Catholic in both cases. The direct mapping of religion number to denomination is found in `codebook_long.txt`."
   ]
  },
  {
   "cell_type": "code",
   "execution_count": 96,
   "metadata": {},
   "outputs": [],
   "source": [
    "train['v128']='Month'+train['v128'].astype(str)\n",
    "test['v128']='Month'+test['v128'].astype(str)\n",
    "\n",
    "\n",
    "train['v190']='Religion_now'+train['v190'].astype(str)\n",
    "test['v190']='Religion_now'+test['v190'].astype(str)\n",
    "train['v191']='Religion_past'+train['v191'].astype(str)\n",
    "test['v191']='Religion_past'+test['v191'].astype(str)\n",
    "\n",
    "\n",
    "train['is_jewish']=1*((train['v4']==22000)|(train['v5']==22000))\n",
    "test['is_jewish']=1*((test['v4']==22000)|(test['v5']==22000))\n",
    "\n",
    "train['is_gypsy']=1*((train['v4']==14100)|(train['v5']==14100))\n",
    "test['is_gypsy']=1*((test['v4']==14100)|(test['v5']==14100))"
   ]
  },
  {
   "cell_type": "code",
   "execution_count": null,
   "metadata": {},
   "outputs": [],
   "source": []
  },
  {
   "cell_type": "markdown",
   "metadata": {},
   "source": [
    "Many respondants do not provide an actual answer to many of the questions. `Not available,Refusal,No Answer,Don't know,No answer Not applicable` are examples of such cases. We decide to impute all of these, with the exception of `Not applicable`. To get arround this we will convert all instances of `Not applicable` to a placebholder value, -999."
   ]
  },
  {
   "cell_type": "code",
   "execution_count": 27,
   "metadata": {},
   "outputs": [],
   "source": [
    "for c in train.columns.drop('satisfied'):\n",
    "    try:\n",
    "        train.loc[train[c].isin(['Not applicable']),c]=-999\n",
    "        \n",
    "        ### Addition\n",
    "        test.loc[test[c].isin(['Not applicable']),c]=-999\n",
    "        ####\n",
    "    except ValueError:\n",
    "        print(c+\" is not numeric\")"
   ]
  },
  {
   "cell_type": "code",
   "execution_count": null,
   "metadata": {},
   "outputs": [],
   "source": []
  },
  {
   "cell_type": "markdown",
   "metadata": {},
   "source": [
    "For Example: Respondant 37017 has responce `Don't Know` for `v263: Year of birth of second person in household`. So we create column `v263given`  37017 will have value 1 37017 will now have value `NaN` for column `v263`. Respondents who did not have `Not available, Refusal, No Answer, Don't know, No answer` provided for `v263` will have 0 in `v263given` and the original value in `v263`.\n",
    "\n",
    "We have decide to treat all these responses the same."
   ]
  },
  {
   "cell_type": "code",
   "execution_count": 28,
   "metadata": {},
   "outputs": [],
   "source": [
    "for c in train.columns.drop('satisfied'):\n",
    "    train[c+'given']=train[c].isin(['Not available','Refusal',\"No Answer\",\"Don't know\",'No answer'])*1\n",
    "    train.loc[train[c].isin(['Not available','Refusal',\"No Answer\",\"Don't know\",'No answer']),c]=np.nan\n",
    "    test[c+'given']=test[c].isin(['Not available','Refusal',\"No Answer\",\"Don't know\",'No answer'])*1\n",
    "    test.loc[test[c].isin(['Not available','Refusal',\"No Answer\",\"Don't know\",'No answer']),c]=np.nan"
   ]
  },
  {
   "cell_type": "markdown",
   "metadata": {},
   "source": [
    "We suppose that the makeup of the people living with a person will impact their happiness. We create relevant variables by looking at the `nth person in household: relationship to respondent` series of variables (`v204` to `v215`) and combining with the `Gender of nth person in household` variables (`v86` to `97`). \n",
    "\n",
    "We create variables `g_2` to `g_13` which correspond to the gender, relationship code of the nth person (n between 2 and 13). For example a `11` for variable `g_4` corresponds to a male child as the 4th person in the household. We can then collect duplicates to see how many male children are in the household. \n",
    "\n",
    "We can also look at the `Year of birth of nth person in household` variables to get the age of these members."
   ]
  },
  {
   "cell_type": "code",
   "execution_count": 29,
   "metadata": {},
   "outputs": [],
   "source": [
    "def kids_adult_kids(x):\n",
    "    x['g_2']=x['v90']+x['v208']\n",
    "    x['g_3']=x['v91']+x['v209']\n",
    "    x['g_4']=x['v92']+x['v210']\n",
    "    x['g_5']=x['v93']+x['v211']\n",
    "    x['g_6']=x['v94']+x['v212']\n",
    "    x['g_7']=x['v95']+x['v213']\n",
    "    x['g_8']=x['v96']+x['v214']\n",
    "    x['g_9']=x['v97']+x['v215']\n",
    "    x['g_10']=x['v86']+x['v204']\n",
    "    x['g_11']=x['v87']+x['v205']\n",
    "    x['g_12']=x['v88']+x['v206']\n",
    "    x['g_13']=x['v89']+x['v207']\n",
    "    \n",
    "    for combo in ['11','21','12','22','13','23','14','24','15','25','16','26']:\n",
    "        x['total'+combo]=1*pd.DataFrame(x[['g_2','g_3','g_4','g_5','g_6','g_7','g_8','g_9','g_10',\n",
    "                                           'g_11','g_12','g_13']]==combo).sum(axis=1)\n",
    "        \n",
    "    rel=train[['v204','v205','v206','v207','v208','v209','v210','v211','v212','v213','v214','v215']].copy()\n",
    "    age=train[['v259','v260','v261','v262','v263','v264','v265','v266','v267','v268','v269','v270']].copy()\n",
    "\n",
    "    rel.columns=[10,11,12,13,2,3,4,5,6,7,8,9]\n",
    "    age.columns=[10,11,12,13,2,3,4,5,6,7,8,9]\n",
    "\n",
    "    age[age.isna()]=0\n",
    "    age[age.isin(['Not available','Refusal',\"Don't know\",'No answer','No Answer','Not applicable',np.nan])]=0\n",
    "\n",
    "    rel[rel.isna()]=0\n",
    "    rel[age.isin(['Not available','Refusal',\"Don't know\",'No answer',\"No Answer\",'Not applicable',np.nan])]=0\n",
    "\n",
    "    for c in [10,11,12,13,2,3,4,5,6,7,8,9]:\n",
    "        try:\n",
    "            age[c]=age[c].astype(float)\n",
    "        except ValueError:\n",
    "            print(c+\" is not numeric\")\n",
    "        \n",
    "    x['adult_children']=((1*((age<=1990)&(age>0)))*(1*(rel==\"2\"))).sum(axis=1)\n",
    "    x['kids']=((1*(age>2000))).sum(axis=1)\n",
    "    \n",
    "    \n",
    "    older=age.copy()\n",
    "    younger=age.copy()\n",
    "    older['v258']=x['v258'].astype(float)\n",
    "    younger['v258']=x['v258'].astype(float)\n",
    "    for c in [10,11,12,13,2,3,4,5,6,7,8,9]:\n",
    "        younger[c]=1*(younger[c]>younger['v258'])\n",
    "        older[c]=1*((older[c]<older['v258'])&(older[c]>0))\n",
    "    \n",
    "    \n",
    "    x['older']=older[[10,11,12,13,2,3,4,5,6,7,8,9]].sum(axis=1)\n",
    "    x['younger']=younger[[10,11,12,13,2,3,4,5,6,7,8,9]].sum(axis=1)\n",
    "\n",
    "   \n",
    "    x=x.drop(['g_2','g_3','g_4','g_5','g_6','g_7','g_8','g_9','g_10','g_11','g_12','g_13'],axis=1)\n",
    "    \n",
    "    return(x)"
   ]
  },
  {
   "cell_type": "code",
   "execution_count": 30,
   "metadata": {},
   "outputs": [],
   "source": [
    "train=kids_adult_kids(train)\n",
    "test=kids_adult_kids(test)"
   ]
  },
  {
   "cell_type": "markdown",
   "metadata": {},
   "source": [
    "Values are sometimes recorded in two datatypes. for example we observe the unique values for `v10: Born in country`:"
   ]
  },
  {
   "cell_type": "code",
   "execution_count": 31,
   "metadata": {},
   "outputs": [
    {
     "data": {
      "text/plain": [
       "array([1, 2, '1', '2', nan], dtype=object)"
      ]
     },
     "execution_count": 31,
     "metadata": {},
     "output_type": "execute_result"
    }
   ],
   "source": [
    "train['v10'].unique()"
   ]
  },
  {
   "cell_type": "markdown",
   "metadata": {},
   "source": [
    "We see 1 and '1' are both possible values, to correct for this we decide to change the string values to be numerics:"
   ]
  },
  {
   "cell_type": "code",
   "execution_count": 32,
   "metadata": {},
   "outputs": [
    {
     "name": "stdout",
     "output_type": "stream",
     "text": [
      "v128 is not numeric\n",
      "v190 is not numeric\n",
      "v191 is not numeric\n",
      "InterviewDayOfWeek is not numeric\n",
      "continent code is not numeric\n",
      "EU_region is not numeric\n"
     ]
    }
   ],
   "source": [
    "for c in train.columns.drop('satisfied'):\n",
    "    try:\n",
    "        train[c]=train[c].astype(float)\n",
    "        \n",
    "        ### Addition\n",
    "        test[c]=test[c].astype(float)\n",
    "        ####\n",
    "    except ValueError:\n",
    "        print(c+\" is not numeric\")"
   ]
  },
  {
   "cell_type": "markdown",
   "metadata": {},
   "source": [
    "We can now check again to make sure this issue has been corrected:"
   ]
  },
  {
   "cell_type": "code",
   "execution_count": 33,
   "metadata": {},
   "outputs": [
    {
     "data": {
      "text/plain": [
       "array([ 1.,  2., nan])"
      ]
     },
     "execution_count": 33,
     "metadata": {},
     "output_type": "execute_result"
    }
   ],
   "source": [
    "train['v10'].unique()"
   ]
  },
  {
   "cell_type": "markdown",
   "metadata": {},
   "source": [
    "All variables which are not `float` do not need to be imputed as NA can be left as a value which will be converted into a dummy variable."
   ]
  },
  {
   "cell_type": "code",
   "execution_count": 34,
   "metadata": {},
   "outputs": [
    {
     "data": {
      "text/plain": [
       "Index(['v128', 'v190', 'v191', 'satisfied', 'InterviewDayOfWeek',\n",
       "       'continent code', 'EU_region'],\n",
       "      dtype='object')"
      ]
     },
     "execution_count": 34,
     "metadata": {},
     "output_type": "execute_result"
    }
   ],
   "source": [
    "train.columns[train.dtypes!='float64']"
   ]
  },
  {
   "cell_type": "markdown",
   "metadata": {},
   "source": [
    "Make a separate training set with only numeric values"
   ]
  },
  {
   "cell_type": "code",
   "execution_count": 35,
   "metadata": {},
   "outputs": [],
   "source": [
    "num_col=train.columns[~train.columns.isin(train.columns[train.dtypes!='float64'])]\n",
    "train_n=train[num_col]\n",
    "train_n=train_n.drop(columns={'id'})\n",
    "\n",
    "#### Addition\n",
    "num_col=test.columns[~test.columns.isin(test.columns[test.dtypes!='float64'])]\n",
    "test_n=test[num_col]\n",
    "test_n=test_n.drop(columns={'id'})"
   ]
  },
  {
   "cell_type": "code",
   "execution_count": 36,
   "metadata": {},
   "outputs": [
    {
     "data": {
      "text/html": [
       "<div>\n",
       "<style scoped>\n",
       "    .dataframe tbody tr th:only-of-type {\n",
       "        vertical-align: middle;\n",
       "    }\n",
       "\n",
       "    .dataframe tbody tr th {\n",
       "        vertical-align: top;\n",
       "    }\n",
       "\n",
       "    .dataframe thead th {\n",
       "        text-align: right;\n",
       "    }\n",
       "</style>\n",
       "<table border=\"1\" class=\"dataframe\">\n",
       "  <thead>\n",
       "    <tr style=\"text-align: right;\">\n",
       "      <th></th>\n",
       "      <th>v1</th>\n",
       "      <th>v2</th>\n",
       "      <th>v3</th>\n",
       "      <th>v4</th>\n",
       "      <th>v5</th>\n",
       "      <th>v6</th>\n",
       "      <th>v7</th>\n",
       "      <th>v8</th>\n",
       "      <th>v9</th>\n",
       "      <th>v10</th>\n",
       "      <th>...</th>\n",
       "      <th>total14</th>\n",
       "      <th>total24</th>\n",
       "      <th>total15</th>\n",
       "      <th>total25</th>\n",
       "      <th>total16</th>\n",
       "      <th>total26</th>\n",
       "      <th>adult_children</th>\n",
       "      <th>kids</th>\n",
       "      <th>older</th>\n",
       "      <th>younger</th>\n",
       "    </tr>\n",
       "  </thead>\n",
       "  <tbody>\n",
       "    <tr>\n",
       "      <th>0</th>\n",
       "      <td>2.0</td>\n",
       "      <td>2.0</td>\n",
       "      <td>74.0</td>\n",
       "      <td>11010.0</td>\n",
       "      <td>-999.0</td>\n",
       "      <td>2.0</td>\n",
       "      <td>2.0</td>\n",
       "      <td>2.0</td>\n",
       "      <td>2.0</td>\n",
       "      <td>1.0</td>\n",
       "      <td>...</td>\n",
       "      <td>0.0</td>\n",
       "      <td>0.0</td>\n",
       "      <td>0.0</td>\n",
       "      <td>0.0</td>\n",
       "      <td>0.0</td>\n",
       "      <td>0.0</td>\n",
       "      <td>0.0</td>\n",
       "      <td>0.0</td>\n",
       "      <td>0.0</td>\n",
       "      <td>0.0</td>\n",
       "    </tr>\n",
       "    <tr>\n",
       "      <th>1</th>\n",
       "      <td>4.0</td>\n",
       "      <td>2.0</td>\n",
       "      <td>58.0</td>\n",
       "      <td>11010.0</td>\n",
       "      <td>-999.0</td>\n",
       "      <td>2.0</td>\n",
       "      <td>2.0</td>\n",
       "      <td>2.0</td>\n",
       "      <td>2.0</td>\n",
       "      <td>1.0</td>\n",
       "      <td>...</td>\n",
       "      <td>0.0</td>\n",
       "      <td>0.0</td>\n",
       "      <td>0.0</td>\n",
       "      <td>0.0</td>\n",
       "      <td>0.0</td>\n",
       "      <td>0.0</td>\n",
       "      <td>0.0</td>\n",
       "      <td>0.0</td>\n",
       "      <td>0.0</td>\n",
       "      <td>0.0</td>\n",
       "    </tr>\n",
       "    <tr>\n",
       "      <th>2</th>\n",
       "      <td>6.0</td>\n",
       "      <td>2.0</td>\n",
       "      <td>47.0</td>\n",
       "      <td>11010.0</td>\n",
       "      <td>11010.0</td>\n",
       "      <td>2.0</td>\n",
       "      <td>2.0</td>\n",
       "      <td>1.0</td>\n",
       "      <td>2.0</td>\n",
       "      <td>1.0</td>\n",
       "      <td>...</td>\n",
       "      <td>0.0</td>\n",
       "      <td>0.0</td>\n",
       "      <td>0.0</td>\n",
       "      <td>0.0</td>\n",
       "      <td>0.0</td>\n",
       "      <td>0.0</td>\n",
       "      <td>0.0</td>\n",
       "      <td>0.0</td>\n",
       "      <td>1.0</td>\n",
       "      <td>2.0</td>\n",
       "    </tr>\n",
       "    <tr>\n",
       "      <th>3</th>\n",
       "      <td>10.0</td>\n",
       "      <td>2.0</td>\n",
       "      <td>22.0</td>\n",
       "      <td>11010.0</td>\n",
       "      <td>-999.0</td>\n",
       "      <td>2.0</td>\n",
       "      <td>2.0</td>\n",
       "      <td>2.0</td>\n",
       "      <td>2.0</td>\n",
       "      <td>1.0</td>\n",
       "      <td>...</td>\n",
       "      <td>0.0</td>\n",
       "      <td>0.0</td>\n",
       "      <td>0.0</td>\n",
       "      <td>0.0</td>\n",
       "      <td>0.0</td>\n",
       "      <td>0.0</td>\n",
       "      <td>0.0</td>\n",
       "      <td>0.0</td>\n",
       "      <td>0.0</td>\n",
       "      <td>0.0</td>\n",
       "    </tr>\n",
       "    <tr>\n",
       "      <th>4</th>\n",
       "      <td>0.0</td>\n",
       "      <td>1.0</td>\n",
       "      <td>24.0</td>\n",
       "      <td>11010.0</td>\n",
       "      <td>-999.0</td>\n",
       "      <td>2.0</td>\n",
       "      <td>2.0</td>\n",
       "      <td>2.0</td>\n",
       "      <td>2.0</td>\n",
       "      <td>1.0</td>\n",
       "      <td>...</td>\n",
       "      <td>0.0</td>\n",
       "      <td>0.0</td>\n",
       "      <td>0.0</td>\n",
       "      <td>0.0</td>\n",
       "      <td>0.0</td>\n",
       "      <td>0.0</td>\n",
       "      <td>0.0</td>\n",
       "      <td>0.0</td>\n",
       "      <td>0.0</td>\n",
       "      <td>0.0</td>\n",
       "    </tr>\n",
       "  </tbody>\n",
       "</table>\n",
       "<p>5 rows × 561 columns</p>\n",
       "</div>"
      ],
      "text/plain": [
       "     v1   v2    v3       v4       v5   v6   v7   v8   v9  v10   ...     \\\n",
       "0   2.0  2.0  74.0  11010.0   -999.0  2.0  2.0  2.0  2.0  1.0   ...      \n",
       "1   4.0  2.0  58.0  11010.0   -999.0  2.0  2.0  2.0  2.0  1.0   ...      \n",
       "2   6.0  2.0  47.0  11010.0  11010.0  2.0  2.0  1.0  2.0  1.0   ...      \n",
       "3  10.0  2.0  22.0  11010.0   -999.0  2.0  2.0  2.0  2.0  1.0   ...      \n",
       "4   0.0  1.0  24.0  11010.0   -999.0  2.0  2.0  2.0  2.0  1.0   ...      \n",
       "\n",
       "   total14  total24  total15  total25  total16  total26  adult_children  kids  \\\n",
       "0      0.0      0.0      0.0      0.0      0.0      0.0             0.0   0.0   \n",
       "1      0.0      0.0      0.0      0.0      0.0      0.0             0.0   0.0   \n",
       "2      0.0      0.0      0.0      0.0      0.0      0.0             0.0   0.0   \n",
       "3      0.0      0.0      0.0      0.0      0.0      0.0             0.0   0.0   \n",
       "4      0.0      0.0      0.0      0.0      0.0      0.0             0.0   0.0   \n",
       "\n",
       "   older  younger  \n",
       "0    0.0      0.0  \n",
       "1    0.0      0.0  \n",
       "2    1.0      2.0  \n",
       "3    0.0      0.0  \n",
       "4    0.0      0.0  \n",
       "\n",
       "[5 rows x 561 columns]"
      ]
     },
     "execution_count": 36,
     "metadata": {},
     "output_type": "execute_result"
    }
   ],
   "source": [
    "train_n.head()"
   ]
  },
  {
   "cell_type": "markdown",
   "metadata": {},
   "source": [
    "Using `Imputer` from `sklearn` we impute these numerical columns with the mean."
   ]
  },
  {
   "cell_type": "code",
   "execution_count": 37,
   "metadata": {},
   "outputs": [
    {
     "data": {
      "text/html": [
       "<div>\n",
       "<style scoped>\n",
       "    .dataframe tbody tr th:only-of-type {\n",
       "        vertical-align: middle;\n",
       "    }\n",
       "\n",
       "    .dataframe tbody tr th {\n",
       "        vertical-align: top;\n",
       "    }\n",
       "\n",
       "    .dataframe thead th {\n",
       "        text-align: right;\n",
       "    }\n",
       "</style>\n",
       "<table border=\"1\" class=\"dataframe\">\n",
       "  <thead>\n",
       "    <tr style=\"text-align: right;\">\n",
       "      <th></th>\n",
       "      <th>v1</th>\n",
       "      <th>v2</th>\n",
       "      <th>v3</th>\n",
       "      <th>v4</th>\n",
       "      <th>v5</th>\n",
       "      <th>v6</th>\n",
       "      <th>v7</th>\n",
       "      <th>v8</th>\n",
       "      <th>v9</th>\n",
       "      <th>v10</th>\n",
       "      <th>...</th>\n",
       "      <th>total14</th>\n",
       "      <th>total24</th>\n",
       "      <th>total15</th>\n",
       "      <th>total25</th>\n",
       "      <th>total16</th>\n",
       "      <th>total26</th>\n",
       "      <th>adult_children</th>\n",
       "      <th>kids</th>\n",
       "      <th>older</th>\n",
       "      <th>younger</th>\n",
       "    </tr>\n",
       "  </thead>\n",
       "  <tbody>\n",
       "    <tr>\n",
       "      <th>0</th>\n",
       "      <td>0.0</td>\n",
       "      <td>1.0</td>\n",
       "      <td>63.0</td>\n",
       "      <td>15020.0</td>\n",
       "      <td>-999.0</td>\n",
       "      <td>2.0</td>\n",
       "      <td>2.0</td>\n",
       "      <td>1.0</td>\n",
       "      <td>2.0</td>\n",
       "      <td>1.0</td>\n",
       "      <td>...</td>\n",
       "      <td>0.0</td>\n",
       "      <td>0.0</td>\n",
       "      <td>0.0</td>\n",
       "      <td>0.0</td>\n",
       "      <td>0.0</td>\n",
       "      <td>0.0</td>\n",
       "      <td>0.0</td>\n",
       "      <td>0.0</td>\n",
       "      <td>0.0</td>\n",
       "      <td>0.0</td>\n",
       "    </tr>\n",
       "    <tr>\n",
       "      <th>1</th>\n",
       "      <td>5.0</td>\n",
       "      <td>2.0</td>\n",
       "      <td>44.0</td>\n",
       "      <td>21070.0</td>\n",
       "      <td>21070.0</td>\n",
       "      <td>1.0</td>\n",
       "      <td>2.0</td>\n",
       "      <td>2.0</td>\n",
       "      <td>1.0</td>\n",
       "      <td>2.0</td>\n",
       "      <td>...</td>\n",
       "      <td>0.0</td>\n",
       "      <td>0.0</td>\n",
       "      <td>0.0</td>\n",
       "      <td>0.0</td>\n",
       "      <td>0.0</td>\n",
       "      <td>0.0</td>\n",
       "      <td>0.0</td>\n",
       "      <td>0.0</td>\n",
       "      <td>0.0</td>\n",
       "      <td>0.0</td>\n",
       "    </tr>\n",
       "    <tr>\n",
       "      <th>2</th>\n",
       "      <td>10.0</td>\n",
       "      <td>2.0</td>\n",
       "      <td>21.0</td>\n",
       "      <td>11010.0</td>\n",
       "      <td>11010.0</td>\n",
       "      <td>2.0</td>\n",
       "      <td>1.0</td>\n",
       "      <td>2.0</td>\n",
       "      <td>2.0</td>\n",
       "      <td>1.0</td>\n",
       "      <td>...</td>\n",
       "      <td>0.0</td>\n",
       "      <td>0.0</td>\n",
       "      <td>0.0</td>\n",
       "      <td>0.0</td>\n",
       "      <td>0.0</td>\n",
       "      <td>0.0</td>\n",
       "      <td>0.0</td>\n",
       "      <td>0.0</td>\n",
       "      <td>2.0</td>\n",
       "      <td>1.0</td>\n",
       "    </tr>\n",
       "    <tr>\n",
       "      <th>3</th>\n",
       "      <td>2.0</td>\n",
       "      <td>2.0</td>\n",
       "      <td>75.0</td>\n",
       "      <td>11010.0</td>\n",
       "      <td>-999.0</td>\n",
       "      <td>2.0</td>\n",
       "      <td>2.0</td>\n",
       "      <td>2.0</td>\n",
       "      <td>2.0</td>\n",
       "      <td>1.0</td>\n",
       "      <td>...</td>\n",
       "      <td>0.0</td>\n",
       "      <td>0.0</td>\n",
       "      <td>0.0</td>\n",
       "      <td>0.0</td>\n",
       "      <td>0.0</td>\n",
       "      <td>0.0</td>\n",
       "      <td>0.0</td>\n",
       "      <td>0.0</td>\n",
       "      <td>0.0</td>\n",
       "      <td>0.0</td>\n",
       "    </tr>\n",
       "    <tr>\n",
       "      <th>4</th>\n",
       "      <td>0.0</td>\n",
       "      <td>1.0</td>\n",
       "      <td>22.0</td>\n",
       "      <td>11010.0</td>\n",
       "      <td>11010.0</td>\n",
       "      <td>2.0</td>\n",
       "      <td>2.0</td>\n",
       "      <td>2.0</td>\n",
       "      <td>2.0</td>\n",
       "      <td>1.0</td>\n",
       "      <td>...</td>\n",
       "      <td>0.0</td>\n",
       "      <td>0.0</td>\n",
       "      <td>0.0</td>\n",
       "      <td>0.0</td>\n",
       "      <td>0.0</td>\n",
       "      <td>0.0</td>\n",
       "      <td>0.0</td>\n",
       "      <td>0.0</td>\n",
       "      <td>0.0</td>\n",
       "      <td>0.0</td>\n",
       "    </tr>\n",
       "  </tbody>\n",
       "</table>\n",
       "<p>5 rows × 561 columns</p>\n",
       "</div>"
      ],
      "text/plain": [
       "     v1   v2    v3       v4       v5   v6   v7   v8   v9  v10   ...     \\\n",
       "0   0.0  1.0  63.0  15020.0   -999.0  2.0  2.0  1.0  2.0  1.0   ...      \n",
       "1   5.0  2.0  44.0  21070.0  21070.0  1.0  2.0  2.0  1.0  2.0   ...      \n",
       "2  10.0  2.0  21.0  11010.0  11010.0  2.0  1.0  2.0  2.0  1.0   ...      \n",
       "3   2.0  2.0  75.0  11010.0   -999.0  2.0  2.0  2.0  2.0  1.0   ...      \n",
       "4   0.0  1.0  22.0  11010.0  11010.0  2.0  2.0  2.0  2.0  1.0   ...      \n",
       "\n",
       "   total14  total24  total15  total25  total16  total26  adult_children  kids  \\\n",
       "0      0.0      0.0      0.0      0.0      0.0      0.0             0.0   0.0   \n",
       "1      0.0      0.0      0.0      0.0      0.0      0.0             0.0   0.0   \n",
       "2      0.0      0.0      0.0      0.0      0.0      0.0             0.0   0.0   \n",
       "3      0.0      0.0      0.0      0.0      0.0      0.0             0.0   0.0   \n",
       "4      0.0      0.0      0.0      0.0      0.0      0.0             0.0   0.0   \n",
       "\n",
       "   older  younger  \n",
       "0    0.0      0.0  \n",
       "1    0.0      0.0  \n",
       "2    2.0      1.0  \n",
       "3    0.0      0.0  \n",
       "4    0.0      0.0  \n",
       "\n",
       "[5 rows x 561 columns]"
      ]
     },
     "execution_count": 37,
     "metadata": {},
     "output_type": "execute_result"
    }
   ],
   "source": [
    "test_n.head()"
   ]
  },
  {
   "cell_type": "code",
   "execution_count": 38,
   "metadata": {},
   "outputs": [
    {
     "data": {
      "text/plain": [
       "Series([], dtype: int64)"
      ]
     },
     "execution_count": 38,
     "metadata": {},
     "output_type": "execute_result"
    }
   ],
   "source": [
    "test_n.nunique()[test_n.nunique()==0]"
   ]
  },
  {
   "cell_type": "markdown",
   "metadata": {},
   "source": [
    "We create our response for our training data, and remove this variable from our training data"
   ]
  },
  {
   "cell_type": "code",
   "execution_count": 39,
   "metadata": {},
   "outputs": [],
   "source": [
    "y_train=train['satisfied']"
   ]
  },
  {
   "cell_type": "markdown",
   "metadata": {},
   "source": [
    "# Imputation"
   ]
  },
  {
   "cell_type": "markdown",
   "metadata": {},
   "source": [
    "Recalling our placeholder value for `Not Applicable` of -999, we must adjust for these when we wish to impute the values for `Not available,Refusal,No Answer,Don't know,No answer Not applicable` which were previously converted to `NaN`. We impute these values to be the median value of all other responses in that data set while omiting the -999 values. "
   ]
  },
  {
   "cell_type": "code",
   "execution_count": 40,
   "metadata": {},
   "outputs": [],
   "source": [
    "from statistics import mode"
   ]
  },
  {
   "cell_type": "code",
   "execution_count": null,
   "metadata": {},
   "outputs": [],
   "source": []
  },
  {
   "cell_type": "code",
   "execution_count": 41,
   "metadata": {},
   "outputs": [
    {
     "data": {
      "text/plain": [
       "Series([], dtype: float64)"
      ]
     },
     "execution_count": 41,
     "metadata": {},
     "output_type": "execute_result"
    }
   ],
   "source": [
    "train_n.loc[train_n[c].isin([-999,np.nan]),c].mode()\n",
    "test_n.loc[test_n[c].isin([-999,np.nan]),c].mode()"
   ]
  },
  {
   "cell_type": "code",
   "execution_count": 43,
   "metadata": {},
   "outputs": [],
   "source": [
    "for c in train_n.columns:\n",
    "    try:\n",
    "        train_n.loc[train_n[c].isna(),c]=train_n.loc[~train_n[c].isna(),c].mean()\n",
    "        \n",
    "        ### Addition\n",
    "        test_n.loc[test_n[c].isna(),c]=test_n.loc[~test_n[c].isna(),c].mean()\n",
    "        ####\n",
    "    except ValueError:\n",
    "        print(c+\" is not numeric\")\n",
    "        \n",
    "## Addition\n",
    "for v in ['v89','v195','v207','v262']:\n",
    "    test_n[v]=(train_n[v]).mean()"
   ]
  },
  {
   "cell_type": "markdown",
   "metadata": {},
   "source": [
    "Make a separate training set with only the character variables:"
   ]
  },
  {
   "cell_type": "code",
   "execution_count": 44,
   "metadata": {},
   "outputs": [],
   "source": [
    "train_c=train[train.columns[(train.dtypes!='float64')&(train.columns!='satisfied')]]\n",
    "\n",
    "## Addition\n",
    "test_c=test[test.columns[(test.dtypes!='float64')&(test.columns!='satisfied')]]"
   ]
  },
  {
   "cell_type": "markdown",
   "metadata": {},
   "source": [
    "For these character variables, we convert them to dummy variables where each level will have it's own variable with levels:\n",
    "- 0 if the respondent did not give that level \n",
    "- 1 if the respondent gave that level "
   ]
  },
  {
   "cell_type": "code",
   "execution_count": 45,
   "metadata": {},
   "outputs": [],
   "source": [
    "train_c=pd.get_dummies(train_c)\n",
    "\n",
    "## Addition\n",
    "test_c=pd.get_dummies(test_c)"
   ]
  },
  {
   "cell_type": "markdown",
   "metadata": {},
   "source": []
  },
  {
   "cell_type": "code",
   "execution_count": 46,
   "metadata": {},
   "outputs": [],
   "source": [
    "for v in train_c.columns[~train_c.columns.isin(test_c.columns)]:\n",
    "    print(v)"
   ]
  },
  {
   "cell_type": "markdown",
   "metadata": {},
   "source": [
    "We now append all these dummy variable columns to our `train_n` dataframe to create a finalized training set, with no missing data in it. "
   ]
  },
  {
   "cell_type": "code",
   "execution_count": 47,
   "metadata": {},
   "outputs": [],
   "source": [
    "for c in train_c.columns:\n",
    "    train_n[c]=train_c[c]\n",
    "    \n",
    "    ## Addition\n",
    "    test_n[c]=test_c[c]\n",
    "\n",
    "## Addition\n",
    "for v in train_c.columns[~train_c.columns.isin(test_c.columns)]:\n",
    "    test_n[v]=0\n"
   ]
  },
  {
   "cell_type": "code",
   "execution_count": null,
   "metadata": {},
   "outputs": [],
   "source": []
  },
  {
   "cell_type": "markdown",
   "metadata": {},
   "source": [
    "Many Variables can be dropped for computational easy, especially numeric variables which do not preserve ordering. \n",
    "\n",
    "For Example:\n",
    "\n",
    "- v4: First ancestry, European Standard Classification of Cultural and Ethnic Groups\n",
    "- v5: Second ancestry, European Standard Classification of Cultural and Ethnic Groups\n",
    "- v86 to v97: Gender of nth person in house \n",
    "- v124 to  v127, and v129: End/Start of interview month, minute hour not changing v128 since this variable was already removed and converted to factor\n",
    "\n",
    "- v192 to v203: Relationship to respondent of nth person in house\n",
    "- v204 to v215: Relationship to respondent of nth person in house\n",
    "- v258 : Year of Birth\n",
    "- v259 to v270: Year of Birth of nth person in house\n",
    "\n",
    "\n",
    "\n",
    "\n"
   ]
  },
  {
   "cell_type": "code",
   "execution_count": 48,
   "metadata": {},
   "outputs": [],
   "source": [
    "v=['v270','v269','v268','v267','v266','v265','v264','v263','v262','v261','v260','v259','v258','v215','v214','v213','v212','v211',\n",
    "   'v210','v209','v208','v207','v206','v205','v204','v203','v202','v201','v200','v199','v198','v197','v196','v195','v194','v193',\n",
    "   'v192','v129','v127','v126','v125','v124','v97','v96','v95','v94','v93','v92','v91','v90','v89','v88','v87','v86','v5','v4']\n",
    "\n",
    "for c in v:\n",
    "    train_n=train_n.drop(c,axis=1)\n",
    "    test_n=test_n.drop(c,axis=1)"
   ]
  },
  {
   "cell_type": "code",
   "execution_count": null,
   "metadata": {},
   "outputs": [],
   "source": []
  },
  {
   "cell_type": "code",
   "execution_count": 49,
   "metadata": {},
   "outputs": [
    {
     "data": {
      "text/html": [
       "<div>\n",
       "<style scoped>\n",
       "    .dataframe tbody tr th:only-of-type {\n",
       "        vertical-align: middle;\n",
       "    }\n",
       "\n",
       "    .dataframe tbody tr th {\n",
       "        vertical-align: top;\n",
       "    }\n",
       "\n",
       "    .dataframe thead th {\n",
       "        text-align: right;\n",
       "    }\n",
       "</style>\n",
       "<table border=\"1\" class=\"dataframe\">\n",
       "  <thead>\n",
       "    <tr style=\"text-align: right;\">\n",
       "      <th></th>\n",
       "      <th>v1</th>\n",
       "      <th>v2</th>\n",
       "      <th>v3</th>\n",
       "      <th>v6</th>\n",
       "      <th>v7</th>\n",
       "      <th>v8</th>\n",
       "      <th>v9</th>\n",
       "      <th>v10</th>\n",
       "      <th>v11</th>\n",
       "      <th>v12</th>\n",
       "      <th>...</th>\n",
       "      <th>continent code_AS</th>\n",
       "      <th>continent code_EU</th>\n",
       "      <th>continent code_OC</th>\n",
       "      <th>continent code_SA</th>\n",
       "      <th>EU_region_British_Isles_Europe</th>\n",
       "      <th>EU_region_East_Europe</th>\n",
       "      <th>EU_region_North_Europe</th>\n",
       "      <th>EU_region_Other_Europe</th>\n",
       "      <th>EU_region_South_Europe</th>\n",
       "      <th>EU_region_West_Europe</th>\n",
       "    </tr>\n",
       "  </thead>\n",
       "  <tbody>\n",
       "    <tr>\n",
       "      <th>0</th>\n",
       "      <td>2.0</td>\n",
       "      <td>2.0</td>\n",
       "      <td>74.0</td>\n",
       "      <td>2.0</td>\n",
       "      <td>2.0</td>\n",
       "      <td>2.0</td>\n",
       "      <td>2.0</td>\n",
       "      <td>1.0</td>\n",
       "      <td>1.0</td>\n",
       "      <td>2.0</td>\n",
       "      <td>...</td>\n",
       "      <td>0</td>\n",
       "      <td>0</td>\n",
       "      <td>0</td>\n",
       "      <td>0</td>\n",
       "      <td>0</td>\n",
       "      <td>0</td>\n",
       "      <td>0</td>\n",
       "      <td>0</td>\n",
       "      <td>0</td>\n",
       "      <td>1</td>\n",
       "    </tr>\n",
       "    <tr>\n",
       "      <th>1</th>\n",
       "      <td>4.0</td>\n",
       "      <td>2.0</td>\n",
       "      <td>58.0</td>\n",
       "      <td>2.0</td>\n",
       "      <td>2.0</td>\n",
       "      <td>2.0</td>\n",
       "      <td>2.0</td>\n",
       "      <td>1.0</td>\n",
       "      <td>2.0</td>\n",
       "      <td>2.0</td>\n",
       "      <td>...</td>\n",
       "      <td>0</td>\n",
       "      <td>0</td>\n",
       "      <td>0</td>\n",
       "      <td>0</td>\n",
       "      <td>0</td>\n",
       "      <td>0</td>\n",
       "      <td>0</td>\n",
       "      <td>0</td>\n",
       "      <td>0</td>\n",
       "      <td>1</td>\n",
       "    </tr>\n",
       "    <tr>\n",
       "      <th>2</th>\n",
       "      <td>6.0</td>\n",
       "      <td>2.0</td>\n",
       "      <td>47.0</td>\n",
       "      <td>2.0</td>\n",
       "      <td>2.0</td>\n",
       "      <td>1.0</td>\n",
       "      <td>2.0</td>\n",
       "      <td>1.0</td>\n",
       "      <td>-999.0</td>\n",
       "      <td>1.0</td>\n",
       "      <td>...</td>\n",
       "      <td>0</td>\n",
       "      <td>0</td>\n",
       "      <td>0</td>\n",
       "      <td>0</td>\n",
       "      <td>0</td>\n",
       "      <td>0</td>\n",
       "      <td>0</td>\n",
       "      <td>0</td>\n",
       "      <td>0</td>\n",
       "      <td>1</td>\n",
       "    </tr>\n",
       "    <tr>\n",
       "      <th>3</th>\n",
       "      <td>10.0</td>\n",
       "      <td>2.0</td>\n",
       "      <td>22.0</td>\n",
       "      <td>2.0</td>\n",
       "      <td>2.0</td>\n",
       "      <td>2.0</td>\n",
       "      <td>2.0</td>\n",
       "      <td>1.0</td>\n",
       "      <td>2.0</td>\n",
       "      <td>2.0</td>\n",
       "      <td>...</td>\n",
       "      <td>0</td>\n",
       "      <td>0</td>\n",
       "      <td>0</td>\n",
       "      <td>0</td>\n",
       "      <td>0</td>\n",
       "      <td>0</td>\n",
       "      <td>0</td>\n",
       "      <td>0</td>\n",
       "      <td>0</td>\n",
       "      <td>1</td>\n",
       "    </tr>\n",
       "    <tr>\n",
       "      <th>4</th>\n",
       "      <td>0.0</td>\n",
       "      <td>1.0</td>\n",
       "      <td>24.0</td>\n",
       "      <td>2.0</td>\n",
       "      <td>2.0</td>\n",
       "      <td>2.0</td>\n",
       "      <td>2.0</td>\n",
       "      <td>1.0</td>\n",
       "      <td>2.0</td>\n",
       "      <td>2.0</td>\n",
       "      <td>...</td>\n",
       "      <td>0</td>\n",
       "      <td>0</td>\n",
       "      <td>0</td>\n",
       "      <td>0</td>\n",
       "      <td>0</td>\n",
       "      <td>0</td>\n",
       "      <td>0</td>\n",
       "      <td>0</td>\n",
       "      <td>0</td>\n",
       "      <td>1</td>\n",
       "    </tr>\n",
       "  </tbody>\n",
       "</table>\n",
       "<p>5 rows × 558 columns</p>\n",
       "</div>"
      ],
      "text/plain": [
       "     v1   v2    v3   v6   v7   v8   v9  v10    v11  v12  \\\n",
       "0   2.0  2.0  74.0  2.0  2.0  2.0  2.0  1.0    1.0  2.0   \n",
       "1   4.0  2.0  58.0  2.0  2.0  2.0  2.0  1.0    2.0  2.0   \n",
       "2   6.0  2.0  47.0  2.0  2.0  1.0  2.0  1.0 -999.0  1.0   \n",
       "3  10.0  2.0  22.0  2.0  2.0  2.0  2.0  1.0    2.0  2.0   \n",
       "4   0.0  1.0  24.0  2.0  2.0  2.0  2.0  1.0    2.0  2.0   \n",
       "\n",
       "           ...            continent code_AS  continent code_EU  \\\n",
       "0          ...                            0                  0   \n",
       "1          ...                            0                  0   \n",
       "2          ...                            0                  0   \n",
       "3          ...                            0                  0   \n",
       "4          ...                            0                  0   \n",
       "\n",
       "   continent code_OC  continent code_SA  EU_region_British_Isles_Europe  \\\n",
       "0                  0                  0                               0   \n",
       "1                  0                  0                               0   \n",
       "2                  0                  0                               0   \n",
       "3                  0                  0                               0   \n",
       "4                  0                  0                               0   \n",
       "\n",
       "   EU_region_East_Europe  EU_region_North_Europe  EU_region_Other_Europe  \\\n",
       "0                      0                       0                       0   \n",
       "1                      0                       0                       0   \n",
       "2                      0                       0                       0   \n",
       "3                      0                       0                       0   \n",
       "4                      0                       0                       0   \n",
       "\n",
       "   EU_region_South_Europe  EU_region_West_Europe  \n",
       "0                       0                      1  \n",
       "1                       0                      1  \n",
       "2                       0                      1  \n",
       "3                       0                      1  \n",
       "4                       0                      1  \n",
       "\n",
       "[5 rows x 558 columns]"
      ]
     },
     "execution_count": 49,
     "metadata": {},
     "output_type": "execute_result"
    }
   ],
   "source": [
    "train_n.head()"
   ]
  },
  {
   "cell_type": "markdown",
   "metadata": {},
   "source": [
    "# Break"
   ]
  },
  {
   "cell_type": "code",
   "execution_count": 50,
   "metadata": {},
   "outputs": [],
   "source": [
    "train_n['v150']=train_n['v150']//1000\n",
    "test_n['v150']=test_n['v150']//1000\n",
    "\n",
    "train_n['v151']=train_n['v151']//1000\n",
    "test_n['v151']=test_n['v151']//1000\n",
    "\n",
    "train_n['better_job_partner']=train_n['v150']>train_n['v151']\n",
    "test_n['better_job_partner']=test_n['v150']>test_n['v151']\n",
    "\n",
    "train_n['equal_job_partner']=1*(train_n['v150']==train_n['v151'])\n",
    "test_n['equal_job_partner']=1*(test_n['v150']==test_n['v151'])"
   ]
  },
  {
   "cell_type": "code",
   "execution_count": 51,
   "metadata": {},
   "outputs": [],
   "source": [
    "train_n=train_n[train_n.columns[~train_n.columns.isin(['v131'])]]\n",
    "test_n=test_n[test_n.columns[~test_n.columns.isin(['v131'])]]"
   ]
  },
  {
   "cell_type": "code",
   "execution_count": 52,
   "metadata": {},
   "outputs": [],
   "source": [
    "train_n['satisfied']=y_train"
   ]
  },
  {
   "cell_type": "code",
   "execution_count": 53,
   "metadata": {},
   "outputs": [],
   "source": [
    "train_n.to_csv(r\"C:\\Users\\Jack\\Desktop\\Project441\\train_n.csv\",index = False)\n",
    "test_n.to_csv(r\"C:\\Users\\Jack\\Desktop\\Project441\\test_n.csv\",index = False)"
   ]
  },
  {
   "cell_type": "code",
   "execution_count": null,
   "metadata": {},
   "outputs": [],
   "source": []
  }
 ],
 "metadata": {
  "kernelspec": {
   "display_name": "Python 3",
   "language": "python",
   "name": "python3"
  },
  "language_info": {
   "codemirror_mode": {
    "name": "ipython",
    "version": 3
   },
   "file_extension": ".py",
   "mimetype": "text/x-python",
   "name": "python",
   "nbconvert_exporter": "python",
   "pygments_lexer": "ipython3",
   "version": "3.7.0"
  }
 },
 "nbformat": 4,
 "nbformat_minor": 2
}
