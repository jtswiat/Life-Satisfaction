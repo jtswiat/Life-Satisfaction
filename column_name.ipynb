{
 "cells": [
  {
   "cell_type": "code",
   "execution_count": 3,
   "metadata": {},
   "outputs": [],
   "source": [
    "import pandas as pd"
   ]
  },
  {
   "cell_type": "markdown",
   "metadata": {},
   "source": [
    "Below we read in the `codebook_long.txt` file and split lines by commas and create a list."
   ]
  },
  {
   "cell_type": "code",
   "execution_count": 4,
   "metadata": {},
   "outputs": [],
   "source": [
    "codebook=open(r\"C:\\Users\\Jack\\Desktop\\Project441\\codebook_long.txt\")\n",
    "readlines = [line.split(',') for line in codebook.readlines()]"
   ]
  },
  {
   "cell_type": "markdown",
   "metadata": {},
   "source": [
    "Most of the lines read will not be useful, but some contain the variable names as recorded in our data along with their interpretations. Below we define a new, empty list to be populated with these lines, can can find them because the first letter in the line will be `v`.\n",
    "\n",
    "With the below code we create a list of lists, where the inner most list is a list of all comma-separated segment of a line."
   ]
  },
  {
   "cell_type": "code",
   "execution_count": 5,
   "metadata": {},
   "outputs": [],
   "source": [
    "variable_lines=[]\n",
    "for line in readlines:\n",
    "    if (line[0][0]=='v'):\n",
    "        variable_lines=variable_lines+[line]"
   ]
  },
  {
   "cell_type": "code",
   "execution_count": 6,
   "metadata": {},
   "outputs": [
    {
     "data": {
      "text/plain": [
       "[['v1                                      Able to take active role in political group\\n'],\n",
       " ['v2                      Feeling of safety of walking alone in local area after dark\\n'],\n",
       " ['v3                                                    Age of respondent',\n",
       "  ' calculated\\n']]"
      ]
     },
     "execution_count": 6,
     "metadata": {},
     "output_type": "execute_result"
    }
   ],
   "source": [
    "variable_lines[0:3]"
   ]
  },
  {
   "cell_type": "markdown",
   "metadata": {},
   "source": [
    "Below we combine the lists of comma-separated segments of each text line into a single list containing only the joined string."
   ]
  },
  {
   "cell_type": "code",
   "execution_count": 7,
   "metadata": {},
   "outputs": [],
   "source": [
    "variable_lines_joined=[]\n",
    "for variable_line in variable_lines:\n",
    "    variable_lines_joined=variable_lines_joined+[[\"\".join(variable_line)]]"
   ]
  },
  {
   "cell_type": "code",
   "execution_count": 8,
   "metadata": {},
   "outputs": [
    {
     "data": {
      "text/plain": [
       "[['v1                                      Able to take active role in political group\\n'],\n",
       " ['v2                      Feeling of safety of walking alone in local area after dark\\n'],\n",
       " ['v3                                                    Age of respondent calculated\\n']]"
      ]
     },
     "execution_count": 8,
     "metadata": {},
     "output_type": "execute_result"
    }
   ],
   "source": [
    "variable_lines_joined[0:3]"
   ]
  },
  {
   "cell_type": "markdown",
   "metadata": {},
   "source": [
    "Below we clean our single line strings to make them easier to read. First we remove the `\\n` new line signifier at the end of the line. "
   ]
  },
  {
   "cell_type": "code",
   "execution_count": 11,
   "metadata": {},
   "outputs": [],
   "source": [
    "for line in variable_lines_joined:\n",
    "    line[0]=(line[0]).replace(\"\\n\",\"\")"
   ]
  },
  {
   "cell_type": "markdown",
   "metadata": {},
   "source": [
    "We know all lines will begin with `vXXX` where `XXX` is a number between 1 and 270. We first remove the first 2 characters in the string (this will clean all one digit numbers, v1=v9). Next we check whether the the next character is a number, if it is we remove it and strip all other whitespace (this will ensure all all 2 digit numbers v10-v99 are clean). We apply this process one more time of checking whether the first character is a number and if so remove it (this will ensure all 3 digit numbers v100-v999 are cleaned). "
   ]
  },
  {
   "cell_type": "code",
   "execution_count": 12,
   "metadata": {},
   "outputs": [],
   "source": [
    "for line in variable_lines_joined:\n",
    "    line[0]=line[0][2:].strip()\n",
    "    if line[0][0].isnumeric():\n",
    "        line[0]=line[0][1:].strip()\n",
    "    if line[0][0].isnumeric():\n",
    "        line[0]=line[0][1:].strip()"
   ]
  },
  {
   "cell_type": "markdown",
   "metadata": {},
   "source": [
    "We now have a list of all the cleaned variables. We now create a dataframe with the v-type name included as well as the cleaned, full variable name created above. "
   ]
  },
  {
   "cell_type": "code",
   "execution_count": 13,
   "metadata": {},
   "outputs": [],
   "source": [
    "df=pd.DataFrame(variable_lines_joined)\n",
    "df=df.rename(columns={0:'Fullname'})\n",
    "df['df_name']=df.index+1\n",
    "df['df_name']='v'+df['df_name'].astype(str)"
   ]
  },
  {
   "cell_type": "markdown",
   "metadata": {},
   "source": [
    "2 varibles which do not begin with \"v\" are `country` and `id`, we create a dataframe and merge it onto our dataframe we just created."
   ]
  },
  {
   "cell_type": "code",
   "execution_count": 14,
   "metadata": {},
   "outputs": [],
   "source": [
    "df2=pd.DataFrame({'Fullname':['country','id'],'df_name':['cntry','id']})\n",
    "df=df.append(df2)"
   ]
  },
  {
   "cell_type": "code",
   "execution_count": 15,
   "metadata": {},
   "outputs": [],
   "source": [
    "df=df.reset_index(drop=True)"
   ]
  },
  {
   "cell_type": "code",
   "execution_count": 19,
   "metadata": {},
   "outputs": [],
   "source": [
    "df.to_csv(r\"C:\\Users\\Jack\\Desktop\\Project441\\column_name_file_clean.csv\")"
   ]
  }
 ],
 "metadata": {
  "kernelspec": {
   "display_name": "Python 3",
   "language": "python",
   "name": "python3"
  },
  "language_info": {
   "codemirror_mode": {
    "name": "ipython",
    "version": 3
   },
   "file_extension": ".py",
   "mimetype": "text/x-python",
   "name": "python",
   "nbconvert_exporter": "python",
   "pygments_lexer": "ipython3",
   "version": "3.7.0"
  }
 },
 "nbformat": 4,
 "nbformat_minor": 2
}
